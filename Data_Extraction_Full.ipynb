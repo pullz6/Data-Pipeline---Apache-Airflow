{
 "cells": [
  {
   "cell_type": "code",
   "execution_count": 1,
   "id": "32d896ab",
   "metadata": {},
   "outputs": [
    {
     "name": "stdout",
     "output_type": "stream",
     "text": [
      "Requirement already satisfied: pip in /Users/pulsaragunawardhana/anaconda3/lib/python3.11/site-packages (24.2)\n",
      "Note: you may need to restart the kernel to use updated packages.\n"
     ]
    }
   ],
   "source": [
    "pip install --upgrade pip"
   ]
  },
  {
   "cell_type": "code",
   "execution_count": 2,
   "id": "998731d5",
   "metadata": {},
   "outputs": [
    {
     "name": "stdout",
     "output_type": "stream",
     "text": [
      "Requirement already satisfied: configparser in /Users/pulsaragunawardhana/anaconda3/lib/python3.11/site-packages (7.0.0)\n",
      "Note: you may need to restart the kernel to use updated packages.\n"
     ]
    }
   ],
   "source": [
    "pip install configparser"
   ]
  },
  {
   "cell_type": "code",
   "execution_count": 3,
   "id": "00196019",
   "metadata": {},
   "outputs": [
    {
     "name": "stdout",
     "output_type": "stream",
     "text": [
      "Requirement already satisfied: boto3 in /Users/pulsaragunawardhana/anaconda3/lib/python3.11/site-packages (1.34.144)\n",
      "Requirement already satisfied: botocore<1.35.0,>=1.34.144 in /Users/pulsaragunawardhana/anaconda3/lib/python3.11/site-packages (from boto3) (1.34.144)\n",
      "Requirement already satisfied: jmespath<2.0.0,>=0.7.1 in /Users/pulsaragunawardhana/anaconda3/lib/python3.11/site-packages (from boto3) (0.10.0)\n",
      "Requirement already satisfied: s3transfer<0.11.0,>=0.10.0 in /Users/pulsaragunawardhana/anaconda3/lib/python3.11/site-packages (from boto3) (0.10.2)\n",
      "Requirement already satisfied: python-dateutil<3.0.0,>=2.1 in /Users/pulsaragunawardhana/anaconda3/lib/python3.11/site-packages (from botocore<1.35.0,>=1.34.144->boto3) (2.8.2)\n",
      "Requirement already satisfied: urllib3!=2.2.0,<3,>=1.25.4 in /Users/pulsaragunawardhana/anaconda3/lib/python3.11/site-packages (from botocore<1.35.0,>=1.34.144->boto3) (1.26.16)\n",
      "Requirement already satisfied: six>=1.5 in /Users/pulsaragunawardhana/anaconda3/lib/python3.11/site-packages (from python-dateutil<3.0.0,>=2.1->botocore<1.35.0,>=1.34.144->boto3) (1.16.0)\n",
      "Note: you may need to restart the kernel to use updated packages.\n"
     ]
    }
   ],
   "source": [
    "pip install boto3"
   ]
  },
  {
   "cell_type": "code",
   "execution_count": 4,
   "id": "f5f5a40f",
   "metadata": {},
   "outputs": [
    {
     "name": "stdout",
     "output_type": "stream",
     "text": [
      "Requirement already satisfied: pymysql in /Users/pulsaragunawardhana/anaconda3/lib/python3.11/site-packages (1.1.1)\n",
      "Note: you may need to restart the kernel to use updated packages.\n"
     ]
    }
   ],
   "source": [
    "pip install pymysql"
   ]
  },
  {
   "cell_type": "code",
   "execution_count": 5,
   "id": "d5114e6d",
   "metadata": {},
   "outputs": [],
   "source": [
    "import pymysql\n",
    "import csv\n",
    "import boto3\n",
    "import configparser\n",
    "from collections import OrderedDict"
   ]
  },
  {
   "cell_type": "code",
   "execution_count": 6,
   "id": "1b792247",
   "metadata": {},
   "outputs": [],
   "source": [
    "parser = configparser.ConfigParser(strict=False)"
   ]
  },
  {
   "cell_type": "code",
   "execution_count": 7,
   "id": "6e73b329",
   "metadata": {},
   "outputs": [
    {
     "data": {
      "text/plain": [
       "['pipeline.ini']"
      ]
     },
     "execution_count": 7,
     "metadata": {},
     "output_type": "execute_result"
    }
   ],
   "source": [
    "parser.read('pipeline.ini')"
   ]
  },
  {
   "cell_type": "code",
   "execution_count": 8,
   "id": "4f7f98c5",
   "metadata": {},
   "outputs": [
    {
     "name": "stdout",
     "output_type": "stream",
     "text": [
      "['aws_boto_credentials', 'mysql_config']\n"
     ]
    }
   ],
   "source": [
    "print(parser.sections())"
   ]
  },
  {
   "cell_type": "code",
   "execution_count": 9,
   "id": "d72d8428",
   "metadata": {},
   "outputs": [],
   "source": [
    "hostname = parser.get(\"mysql_config\", \"hostname\")\n",
    "port = parser.get(\"mysql_config\", \"port\")\n",
    "username = parser.get(\"mysql_config\", \"username\")\n",
    "dbname = parser.get(\"mysql_config\", \"database\")\n",
    "password = parser.get(\"mysql_config\", \"password\")"
   ]
  },
  {
   "cell_type": "code",
   "execution_count": 10,
   "id": "f03ec05e",
   "metadata": {},
   "outputs": [],
   "source": [
    "conn = pymysql.connect(host=hostname,user=username,password=password,db=dbname,port=int(port))"
   ]
  },
  {
   "cell_type": "code",
   "execution_count": 11,
   "id": "ca3cf7a4",
   "metadata": {},
   "outputs": [
    {
     "name": "stdout",
     "output_type": "stream",
     "text": [
      "MySQL connection established!\n"
     ]
    }
   ],
   "source": [
    "if conn is None:\n",
    "    print(\"Error connecting to the MySQL database\")\n",
    "else:\n",
    "    print(\"MySQL connection established!\")"
   ]
  },
  {
   "cell_type": "code",
   "execution_count": 12,
   "id": "651c97bb",
   "metadata": {},
   "outputs": [],
   "source": [
    "m_query = \"SELECT * FROM Orders;\"\n",
    "local_filename = \"order_extract.csv\""
   ]
  },
  {
   "cell_type": "code",
   "execution_count": 13,
   "id": "2798addb",
   "metadata": {},
   "outputs": [],
   "source": [
    "m_cursor = conn.cursor()\n",
    "m_cursor.execute(m_query)\n",
    "results = m_cursor.fetchall()"
   ]
  },
  {
   "cell_type": "code",
   "execution_count": 14,
   "id": "f3e5c5b2",
   "metadata": {},
   "outputs": [],
   "source": [
    "with open(local_filename, 'w') as fp:\n",
    "    csv_w = csv.writer(fp, delimiter='|')\n",
    "    csv_w.writerows(results)"
   ]
  },
  {
   "cell_type": "code",
   "execution_count": 15,
   "id": "72e6ed46",
   "metadata": {},
   "outputs": [],
   "source": [
    "fp.close()\n",
    "m_cursor.close()\n",
    "conn.close()"
   ]
  },
  {
   "cell_type": "markdown",
   "id": "1034b29c",
   "metadata": {},
   "source": [
    "Checking the binlogs"
   ]
  },
  {
   "cell_type": "code",
   "execution_count": 16,
   "id": "b45e8527",
   "metadata": {},
   "outputs": [
    {
     "name": "stdout",
     "output_type": "stream",
     "text": [
      "Collecting mysql-replication\n",
      "  Downloading mysql_replication-1.0.9.tar.gz (71 kB)\n",
      "  Installing build dependencies ... \u001b[?25ldone\n",
      "\u001b[?25h  Getting requirements to build wheel ... \u001b[?25ldone\n",
      "\u001b[?25h  Preparing metadata (pyproject.toml) ... \u001b[?25ldone\n",
      "\u001b[?25hRequirement already satisfied: packaging in /Users/pulsaragunawardhana/anaconda3/lib/python3.11/site-packages (from mysql-replication) (23.1)\n",
      "Requirement already satisfied: pymysql>=1.1.0 in /Users/pulsaragunawardhana/anaconda3/lib/python3.11/site-packages (from mysql-replication) (1.1.1)\n",
      "Building wheels for collected packages: mysql-replication\n",
      "  Building wheel for mysql-replication (pyproject.toml) ... \u001b[?25ldone\n",
      "\u001b[?25h  Created wheel for mysql-replication: filename=mysql_replication-1.0.9-py3-none-any.whl size=79885 sha256=f2a7c1ef77b11a5029c9a055085257709f77b2bb7692d781db3edf602c775220\n",
      "  Stored in directory: /Users/pulsaragunawardhana/Library/Caches/pip/wheels/3b/13/61/233cf9edc37ac7cc917448600be7c3865a437dc915afec91ee\n",
      "Successfully built mysql-replication\n",
      "Installing collected packages: mysql-replication\n",
      "Successfully installed mysql-replication-1.0.9\n",
      "Note: you may need to restart the kernel to use updated packages.\n"
     ]
    }
   ],
   "source": [
    "pip install mysql-replication"
   ]
  },
  {
   "cell_type": "code",
   "execution_count": 17,
   "id": "607db66b",
   "metadata": {},
   "outputs": [],
   "source": [
    "from pymysqlreplication import BinLogStreamReader\n",
    "from pymysqlreplication import row_event\n",
    "import configparser\n",
    "import pymysqlreplication"
   ]
  },
  {
   "cell_type": "code",
   "execution_count": 19,
   "id": "8c9017ed",
   "metadata": {},
   "outputs": [],
   "source": [
    "# get the MySQL connection info\n",
    "parser = configparser.ConfigParser()\n",
    "parser.read(\"pipeline.ini\")\n",
    "hostname = parser.get(\"mysql_config\", \"hostname\")\n",
    "port = parser.get(\"mysql_config\", \"port\")"
   ]
  },
  {
   "cell_type": "code",
   "execution_count": 20,
   "id": "32b58c04",
   "metadata": {},
   "outputs": [],
   "source": [
    "username = parser.get(\"mysql_config\", \"username\")\n",
    "password = parser.get(\"mysql_config\", \"password\")\n",
    "mysql_settings = {\n",
    "    \"host\": hostname,\n",
    "    \"port\": int(port),\n",
    "    \"user\": username,\n",
    "    \"passwd\": password\n",
    "}"
   ]
  },
  {
   "cell_type": "code",
   "execution_count": 21,
   "id": "35ae4c70",
   "metadata": {},
   "outputs": [],
   "source": [
    "b_stream = BinLogStreamReader(connection_settings = mysql_settings,server_id=100,only_events=[row_event.DeleteRowsEvent,row_event.WriteRowsEvent,row_event.UpdateRowsEvent])"
   ]
  },
  {
   "cell_type": "code",
   "execution_count": 22,
   "id": "3fde1d57",
   "metadata": {},
   "outputs": [
    {
     "name": "stderr",
     "output_type": "stream",
     "text": [
      "WARNING:root:\n",
      "                       Setting The Variable Value BINLOG_ROW_METADATA = FULL, BINLOG_ROW_IMAGE = FULL.\n",
      "                       By Applying this, provide properly mapped column information on UPDATE,DELETE,INSERT.\n",
      "                        \n"
     ]
    }
   ],
   "source": [
    "for event in b_stream:\n",
    "    event.dump()\n",
    "    b_stream.close()"
   ]
  },
  {
   "cell_type": "code",
   "execution_count": 23,
   "id": "1729cc34",
   "metadata": {},
   "outputs": [
    {
     "data": {
      "text/plain": [
       "<pymysqlreplication.binlogstream.BinLogStreamReader at 0x107242e90>"
      ]
     },
     "execution_count": 23,
     "metadata": {},
     "output_type": "execute_result"
    }
   ],
   "source": [
    "b_stream"
   ]
  },
  {
   "cell_type": "code",
   "execution_count": null,
   "id": "d065f446",
   "metadata": {},
   "outputs": [],
   "source": []
  }
 ],
 "metadata": {
  "kernelspec": {
   "display_name": "Python 3 (ipykernel)",
   "language": "python",
   "name": "python3"
  },
  "language_info": {
   "codemirror_mode": {
    "name": "ipython",
    "version": 3
   },
   "file_extension": ".py",
   "mimetype": "text/x-python",
   "name": "python",
   "nbconvert_exporter": "python",
   "pygments_lexer": "ipython3",
   "version": "3.11.5"
  }
 },
 "nbformat": 4,
 "nbformat_minor": 5
}
