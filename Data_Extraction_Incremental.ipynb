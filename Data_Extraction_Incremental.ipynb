{
 "cells": [
  {
   "cell_type": "code",
   "execution_count": 9,
   "id": "b258458a",
   "metadata": {},
   "outputs": [
    {
     "name": "stdout",
     "output_type": "stream",
     "text": [
      "Requirement already satisfied: pip in /Users/pulsaragunawardhana/anaconda3/lib/python3.11/site-packages (24.2)\n",
      "Note: you may need to restart the kernel to use updated packages.\n"
     ]
    }
   ],
   "source": [
    "pip install --upgrade pip"
   ]
  },
  {
   "cell_type": "code",
   "execution_count": 10,
   "id": "63bbae53",
   "metadata": {},
   "outputs": [
    {
     "name": "stdout",
     "output_type": "stream",
     "text": [
      "Requirement already satisfied: mysql-replication in /Users/pulsaragunawardhana/anaconda3/lib/python3.11/site-packages (1.0.9)\n",
      "Requirement already satisfied: packaging in /Users/pulsaragunawardhana/anaconda3/lib/python3.11/site-packages (from mysql-replication) (23.1)\n",
      "Requirement already satisfied: pymysql>=1.1.0 in /Users/pulsaragunawardhana/anaconda3/lib/python3.11/site-packages (from mysql-replication) (1.1.1)\n",
      "Note: you may need to restart the kernel to use updated packages.\n"
     ]
    }
   ],
   "source": [
    "pip install mysql-replication"
   ]
  },
  {
   "cell_type": "code",
   "execution_count": 11,
   "id": "b80f83a3",
   "metadata": {},
   "outputs": [],
   "source": [
    "from pymysqlreplication import BinLogStreamReader\n",
    "from pymysqlreplication import row_event\n",
    "import configparser\n",
    "import pymysqlreplication"
   ]
  },
  {
   "cell_type": "code",
   "execution_count": 12,
   "id": "867f3afb",
   "metadata": {},
   "outputs": [],
   "source": [
    "parser = configparser.ConfigParser()\n",
    "parser.read(\"pipeline.ini\")\n",
    "hostname = parser.get(\"mysql_config\", \"hostname\")\n",
    "port = parser.get(\"mysql_config\", \"port\")"
   ]
  },
  {
   "cell_type": "code",
   "execution_count": 13,
   "id": "0a294381",
   "metadata": {},
   "outputs": [],
   "source": [
    "username = parser.get(\"mysql_config\", \"username\")\n",
    "password = parser.get(\"mysql_config\", \"password\")\n",
    "mysql_settings = {\n",
    "    \"host\": hostname,\n",
    "    \"port\": int(port),\n",
    "    \"user\": username,\n",
    "    \"passwd\": password\n",
    "}"
   ]
  },
  {
   "cell_type": "code",
   "execution_count": 14,
   "id": "a85131b5",
   "metadata": {},
   "outputs": [],
   "source": [
    "b_stream = BinLogStreamReader(connection_settings = mysql_settings,server_id=100,only_events=[row_event.DeleteRowsEvent,row_event.WriteRowsEvent,row_event.UpdateRowsEvent])"
   ]
  },
  {
   "cell_type": "code",
   "execution_count": 16,
   "id": "371ed314",
   "metadata": {},
   "outputs": [],
   "source": [
    "order_events = []"
   ]
  },
  {
   "cell_type": "code",
   "execution_count": 17,
   "id": "fa2ac444",
   "metadata": {},
   "outputs": [
    {
     "name": "stderr",
     "output_type": "stream",
     "text": [
      "WARNING:root:\n",
      "                       Setting The Variable Value BINLOG_ROW_METADATA = FULL, BINLOG_ROW_IMAGE = FULL.\n",
      "                       By Applying this, provide properly mapped column information on UPDATE,DELETE,INSERT.\n",
      "                        \n"
     ]
    }
   ],
   "source": [
    "for binlogevent in b_stream:\n",
    "    for row in binlogevent.rows:\n",
    "        if binlogevent.table == 'orders':\n",
    "            event = {}\n",
    "            if isinstance(binlogevent,row_event.DeleteRowsEvent):\n",
    "                event[\"action\"] = \"delete\"\n",
    "                event.update(row[\"values\"].items())\n",
    "            elif isinstance(binlogevent,row_event.UpdateRowsEvent):\n",
    "                event[\"action\"] = \"update\"\n",
    "                event.update(row[\"after_values\"].items())\n",
    "            elif isinstance(binlogevent,row_event.WriteRowsEvent):\n",
    "                event[\"action\"] = \"insert\"\n",
    "                event.update(row[\"values\"].items())\n",
    "                order_events.append(event)"
   ]
  },
  {
   "cell_type": "code",
   "execution_count": 18,
   "id": "5d51485e",
   "metadata": {},
   "outputs": [],
   "source": [
    "b_stream.close()"
   ]
  },
  {
   "cell_type": "code",
   "execution_count": null,
   "id": "c8fcb640",
   "metadata": {},
   "outputs": [],
   "source": []
  }
 ],
 "metadata": {
  "kernelspec": {
   "display_name": "Python 3 (ipykernel)",
   "language": "python",
   "name": "python3"
  },
  "language_info": {
   "codemirror_mode": {
    "name": "ipython",
    "version": 3
   },
   "file_extension": ".py",
   "mimetype": "text/x-python",
   "name": "python",
   "nbconvert_exporter": "python",
   "pygments_lexer": "ipython3",
   "version": "3.11.5"
  }
 },
 "nbformat": 4,
 "nbformat_minor": 5
}
